{
 "cells": [
  {
   "cell_type": "code",
   "execution_count": 1,
   "metadata": {},
   "outputs": [],
   "source": [
    "import pandas as pd\n",
    "import matplotlib.pyplot as plt\n",
    "import numpy as np\n",
    "import requests\n",
    "\n",
    "from citipy import citipy\n",
    "from config import weather_api_key\n",
    "\n",
    "\n",
    "from datetime import datetime\n",
    "import time\n",
    "\n",
    "from scipy.stats import linregress"
   ]
  },
  {
   "cell_type": "code",
   "execution_count": 2,
   "metadata": {},
   "outputs": [
    {
     "name": "stdout",
     "output_type": "stream",
     "text": [
      "http://api.openweathermap.org/data/2.5/weather?units=Imperial&APPID=d4cb209770713b56aa45c40025b8cc28\n"
     ]
    }
   ],
   "source": [
    "url = \"http://api.openweathermap.org/data/2.5/weather?units=Imperial&APPID=\" + weather_api_key\n",
    "print(url)"
   ]
  },
  {
   "cell_type": "code",
   "execution_count": 3,
   "metadata": {},
   "outputs": [
    {
     "data": {
      "text/plain": [
       "<zip at 0x7ffed5a55f00>"
      ]
     },
     "execution_count": 3,
     "metadata": {},
     "output_type": "execute_result"
    }
   ],
   "source": [
    "#create random longitude and latitude combos\n",
    "lats = np.random.uniform(low=-90.0, high=90.0, size = 100)\n",
    "lans = np.random.uniform(low=-180.0, high=180.0,size = 100)\n",
    "lat_lans = zip(lats,lans)\n",
    "lat_lans"
   ]
  },
  {
   "cell_type": "code",
   "execution_count": 4,
   "metadata": {},
   "outputs": [
    {
     "data": {
      "text/plain": [
       "78"
      ]
     },
     "execution_count": 4,
     "metadata": {},
     "output_type": "execute_result"
    }
   ],
   "source": [
    "#list of cities\n",
    "cities = []\n",
    "for coordinate in lat_lans:\n",
    "    city = citipy.nearest_city(coordinate[0], coordinate[1]).city_name\n",
    "    \n",
    "    if city not in cities:\n",
    "        cities.append(city)\n",
    "        \n",
    "len(cities)"
   ]
  },
  {
   "cell_type": "code",
   "execution_count": 5,
   "metadata": {},
   "outputs": [
    {
     "name": "stdout",
     "output_type": "stream",
     "text": [
      "Beginning Data Retrieval     \n",
      "-----------------------------\n",
      "          City    Lat     Lng Max Temp Humidity Cloudiness Wind Speed  \\\n",
      "0      Rikitea -23.12 -134.97    75.87       70         33       4.94   \n",
      "1       Torbay  47.67  -52.73    30.99      100         90       20.8   \n",
      "2     Bilibino  68.05  166.44     1.18       88        100       3.04   \n",
      "3      Ushuaia  -54.8   -68.3       41       80         40      23.04   \n",
      "4      College  64.86  -147.8     10.4       60         90      19.46   \n",
      "..         ...    ...     ...      ...      ...        ...        ...   \n",
      "67    Araouane   18.9   -3.53    62.06       34          0       7.47   \n",
      "68  Nanortalik  60.14  -45.24     31.6       96        100       7.65   \n",
      "69    Cololaca   14.3  -88.88    67.51       84         51       3.62   \n",
      "70        Ayan  56.45  138.17   -10.98       91        100      25.26   \n",
      "71    Assomada   15.1  -23.68     71.6       78          0      11.41   \n",
      "\n",
      "   Current Descriptin Country                 Date  \n",
      "0          light rain      PF  2020-12-14 04:38:23  \n",
      "1          light snow      CA  2020-12-14 04:35:18  \n",
      "2     overcast clouds      RU  2020-12-14 04:39:02  \n",
      "3                snow      AR  2020-12-14 04:39:03  \n",
      "4         shower rain      US  2020-12-14 04:36:52  \n",
      "..                ...     ...                  ...  \n",
      "67          clear sky      ML  2020-12-14 04:39:17  \n",
      "68    overcast clouds      GL  2020-12-14 04:39:18  \n",
      "69      broken clouds      HN  2020-12-14 04:39:18  \n",
      "70    overcast clouds      RU  2020-12-14 04:39:18  \n",
      "71          clear sky      CV  2020-12-14 04:39:18  \n",
      "\n",
      "[72 rows x 10 columns]\n",
      "-----------------------------\n",
      "Data Retrieval Complete      \n",
      "-----------------------------\n"
     ]
    }
   ],
   "source": [
    "city_data = []\n",
    "# Print the beginning of the logging.\n",
    "print(\"Beginning Data Retrieval     \")\n",
    "print(\"-----------------------------\")\n",
    "\n",
    "# Create counters.\n",
    "record_count = 1\n",
    "set_count = 1\n",
    "\n",
    "\n",
    "    \n",
    "# Loop through all the cities in the list.\n",
    "for i, city in enumerate(cities):\n",
    "\n",
    "    # Group cities in sets of 50 for logging purposes.\n",
    "    if (i % 50 == 0 and i >= 50):\n",
    "        set_count += 1\n",
    "        record_count = 1\n",
    "    # Create endpoint URL with each city.\n",
    "    city_url = url + \"&q=\" + city.replace(\" \",\"+\")\n",
    "\n",
    "    # Log the URL, record, and set numbers and the city.\n",
    "    #print(f\"Processing Record {record_count} of Set {set_count} | {city}\")\n",
    "    # Add 1 to the record count.\n",
    "    record_count += 1\n",
    "# Run an API request for each of the cities.\n",
    "    try:\n",
    "        # Parse the JSON and retrieve data.\n",
    "        city_weather = requests.get(city_url).json()\n",
    "        # Parse out the needed data.\n",
    "        city_lat = city_weather[\"coord\"][\"lat\"]\n",
    "        city_lng = city_weather[\"coord\"][\"lon\"]\n",
    "        city_max_temp = city_weather[\"main\"][\"temp_max\"]\n",
    "        city_humidity = city_weather[\"main\"][\"humidity\"]\n",
    "        city_clouds = city_weather[\"clouds\"][\"all\"]\n",
    "        city_wind = city_weather[\"wind\"][\"speed\"]\n",
    "        weather_description = city_weather[\"weather\"][0][\"description\"]\n",
    "        city_country = city_weather[\"sys\"][\"country\"]\n",
    "        # Convert the date to ISO standard.\n",
    "        city_date = datetime.utcfromtimestamp(city_weather[\"dt\"]).strftime('%Y-%m-%d %H:%M:%S')\n",
    "        # Append the city information into city_data list.\n",
    "        city_data.append({\"City\": city.title(),\n",
    "                          \"Lat\": city_lat,\n",
    "                          \"Lng\": city_lng,\n",
    "                          \"Max Temp\": city_max_temp,\n",
    "                          \"Humidity\": city_humidity,\n",
    "                          \"Cloudiness\": city_clouds,\n",
    "                          \"Wind Speed\": city_wind,\n",
    "                          \"Current Description\": weather_description,\n",
    "                          \"Country\": city_country,\n",
    "                          \"Date\": city_date})\n",
    "\n",
    "# If an error is experienced, skip the city.\n",
    "    except KeyError:\n",
    "        #print(\"City not found. Skipping...\")\n",
    "        pass\n",
    "col = ['City', 'Lat', 'Lng', 'Max Temp', 'Humidity', 'Cloudiness', 'Wind Speed', 'Current Descriptin', 'Country', 'Date']\n",
    "\n",
    "j = 0\n",
    "cName = []\n",
    "cLat  = []\n",
    "cLng  = []\n",
    "cMaxT = []\n",
    "cHum  = []\n",
    "cCld  = []\n",
    "cWinS = []\n",
    "cCur  = []\n",
    "cCoun = []\n",
    "cDate = []\n",
    "#print(city_data)\n",
    "for j in range(len(city_data)):\n",
    "    cName += [city_data[j].get(\"City\")]\n",
    "    cLat  += [city_data[j].get(\"Lat\")]\n",
    "    cLng  += [city_data[j].get(\"Lng\")]\n",
    "    cMaxT += [city_data[j].get(\"Max Temp\")]\n",
    "    cHum  += [city_data[j].get(\"Humidity\")]\n",
    "    cCld  += [city_data[j].get(\"Cloudiness\")]\n",
    "    cWinS += [city_data[j].get(\"Wind Speed\")]\n",
    "    cCur  += [city_data[j].get(\"Current Description\")]\n",
    "    cCoun += [city_data[j].get(\"Country\")]\n",
    "    cDate += [city_data[j].get(\"Date\")]\n",
    "    \n",
    "wList = [cName, cLat, cLng, cMaxT, cHum, cCld, cWinS, cCur, cCoun, cDate]\n",
    "#print(wList)\n",
    "\n",
    "    \n",
    "cityDF = pd.DataFrame(wList).transpose()\n",
    "cityDF.columns= col\n",
    "# Indicate that Data Loading is complete.\n",
    "print(cityDF)\n",
    "\n",
    "cityDF.to_csv('weather_data.csv', index = False)\n",
    "print(\"-----------------------------\")\n",
    "print(\"Data Retrieval Complete      \")\n",
    "print(\"-----------------------------\")"
   ]
  },
  {
   "cell_type": "code",
   "execution_count": null,
   "metadata": {},
   "outputs": [],
   "source": []
  }
 ],
 "metadata": {
  "kernelspec": {
   "display_name": "Python 3",
   "language": "python",
   "name": "python3"
  },
  "language_info": {
   "codemirror_mode": {
    "name": "ipython",
    "version": 3
   },
   "file_extension": ".py",
   "mimetype": "text/x-python",
   "name": "python",
   "nbconvert_exporter": "python",
   "pygments_lexer": "ipython3",
   "version": "3.8.5"
  },
  "widgets": {
   "application/vnd.jupyter.widget-state+json": {
    "state": {},
    "version_major": 2,
    "version_minor": 0
   }
  }
 },
 "nbformat": 4,
 "nbformat_minor": 4
}
