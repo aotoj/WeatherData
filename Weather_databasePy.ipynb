{
 "cells": [
  {
   "cell_type": "code",
   "execution_count": 1,
   "metadata": {},
   "outputs": [],
   "source": [
    "import pandas as pd\n",
    "import matplotlib.pyplot as plt\n",
    "import numpy as np\n",
    "import gmaps\n",
    "import requests\n",
    "\n",
    "from citipy import citipy\n",
    "from config import weather_api_key, g_key\n",
    "\n",
    "gmaps.configure(api_key=g_key)\n",
    "\n",
    "from datetime import datetime\n",
    "import time\n",
    "\n",
    "from scipy.stats import linregress"
   ]
  },
  {
   "cell_type": "code",
   "execution_count": 2,
   "metadata": {},
   "outputs": [
    {
     "name": "stdout",
     "output_type": "stream",
     "text": [
      "http://api.openweathermap.org/data/2.5/weather?units=Imperial&APPID=d4cb209770713b56aa45c40025b8cc28\n"
     ]
    }
   ],
   "source": [
    "url = \"http://api.openweathermap.org/data/2.5/weather?units=Imperial&APPID=\" + weather_api_key\n",
    "print(url)"
   ]
  },
  {
   "cell_type": "code",
   "execution_count": 3,
   "metadata": {},
   "outputs": [
    {
     "data": {
      "text/plain": [
       "<zip at 0x7fb217485d40>"
      ]
     },
     "execution_count": 3,
     "metadata": {},
     "output_type": "execute_result"
    }
   ],
   "source": [
    "#create random longitude and latitude combos\n",
    "lats = np.random.uniform(low=-90.0, high=90.0, size = 100)\n",
    "lans = np.random.uniform(low=-180.0, high=180.0,size = 100)\n",
    "lat_lans = zip(lats,lans)\n",
    "lat_lans"
   ]
  },
  {
   "cell_type": "code",
   "execution_count": 4,
   "metadata": {},
   "outputs": [
    {
     "data": {
      "text/plain": [
       "77"
      ]
     },
     "execution_count": 4,
     "metadata": {},
     "output_type": "execute_result"
    }
   ],
   "source": [
    "#list of cities\n",
    "cities = []\n",
    "for coordinate in lat_lans:\n",
    "    city = citipy.nearest_city(coordinate[0], coordinate[1]).city_name\n",
    "    \n",
    "    if city not in cities:\n",
    "        cities.append(city)\n",
    "        \n",
    "len(cities)"
   ]
  },
  {
   "cell_type": "code",
   "execution_count": 14,
   "metadata": {},
   "outputs": [
    {
     "name": "stdout",
     "output_type": "stream",
     "text": [
      "Beginning Data Retrieval     \n",
      "-----------------------------\n",
      "            City    Lat     Lng Max Temp Humidity Cloudiness Wind Speed  \\\n",
      "0        Bubaque  11.28  -15.83    80.42       56          5        6.6   \n",
      "1      Cape Town -33.93   18.42       61       93          0       5.82   \n",
      "2       Cherskiy  68.75   161.3   -19.41       87        100       5.77   \n",
      "3        Rikitea -23.12 -134.97     76.1       68         42       4.14   \n",
      "4        Kavieng  -2.57   150.8    85.96       69        100      10.45   \n",
      "..           ...    ...     ...      ...      ...        ...        ...   \n",
      "64         Pevek   69.7  170.31    14.65       89        100      18.75   \n",
      "65  Mochalishche  56.33   48.35      1.4       84          0       6.71   \n",
      "66        Talaya  61.38  152.75   -26.91       82        100       4.72   \n",
      "67       Urengoy  65.97   78.37     5.49       95        100       8.03   \n",
      "68       Qaanaaq  77.48  -69.36    23.05       90        100       4.65   \n",
      "\n",
      "   Current Descriptin Country                 Date  \n",
      "0           clear sky      GW  2020-12-14 03:49:30  \n",
      "1           clear sky      ZA  2020-12-14 03:49:28  \n",
      "2     overcast clouds      RU  2020-12-14 03:49:30  \n",
      "3    scattered clouds      PF  2020-12-14 03:49:31  \n",
      "4     overcast clouds      PG  2020-12-14 03:49:31  \n",
      "..                ...     ...                  ...  \n",
      "64    overcast clouds      RU  2020-12-14 03:49:45  \n",
      "65          clear sky      RU  2020-12-14 03:49:46  \n",
      "66    overcast clouds      RU  2020-12-14 03:49:46  \n",
      "67    overcast clouds      RU  2020-12-14 03:49:46  \n",
      "68    overcast clouds      GL  2020-12-14 03:49:46  \n",
      "\n",
      "[69 rows x 10 columns]\n",
      "-----------------------------\n",
      "Data Retrieval Complete      \n",
      "-----------------------------\n"
     ]
    }
   ],
   "source": [
    "city_data = []\n",
    "# Print the beginning of the logging.\n",
    "print(\"Beginning Data Retrieval     \")\n",
    "print(\"-----------------------------\")\n",
    "\n",
    "# Create counters.\n",
    "record_count = 1\n",
    "set_count = 1\n",
    "\n",
    "\n",
    "    \n",
    "# Loop through all the cities in the list.\n",
    "for i, city in enumerate(cities):\n",
    "\n",
    "    # Group cities in sets of 50 for logging purposes.\n",
    "    if (i % 50 == 0 and i >= 50):\n",
    "        set_count += 1\n",
    "        record_count = 1\n",
    "    # Create endpoint URL with each city.\n",
    "    city_url = url + \"&q=\" + city.replace(\" \",\"+\")\n",
    "\n",
    "    # Log the URL, record, and set numbers and the city.\n",
    "    #print(f\"Processing Record {record_count} of Set {set_count} | {city}\")\n",
    "    # Add 1 to the record count.\n",
    "    record_count += 1\n",
    "# Run an API request for each of the cities.\n",
    "    try:\n",
    "        # Parse the JSON and retrieve data.\n",
    "        city_weather = requests.get(city_url).json()\n",
    "        # Parse out the needed data.\n",
    "        city_lat = city_weather[\"coord\"][\"lat\"]\n",
    "        city_lng = city_weather[\"coord\"][\"lon\"]\n",
    "        city_max_temp = city_weather[\"main\"][\"temp_max\"]\n",
    "        city_humidity = city_weather[\"main\"][\"humidity\"]\n",
    "        city_clouds = city_weather[\"clouds\"][\"all\"]\n",
    "        city_wind = city_weather[\"wind\"][\"speed\"]\n",
    "        weather_description = city_weather[\"weather\"][0][\"description\"]\n",
    "        city_country = city_weather[\"sys\"][\"country\"]\n",
    "        # Convert the date to ISO standard.\n",
    "        city_date = datetime.utcfromtimestamp(city_weather[\"dt\"]).strftime('%Y-%m-%d %H:%M:%S')\n",
    "        # Append the city information into city_data list.\n",
    "        city_data.append({\"City\": city.title(),\n",
    "                          \"Lat\": city_lat,\n",
    "                          \"Lng\": city_lng,\n",
    "                          \"Max Temp\": city_max_temp,\n",
    "                          \"Humidity\": city_humidity,\n",
    "                          \"Cloudiness\": city_clouds,\n",
    "                          \"Wind Speed\": city_wind,\n",
    "                          \"Current Description\": weather_description,\n",
    "                          \"Country\": city_country,\n",
    "                          \"Date\": city_date})\n",
    "\n",
    "# If an error is experienced, skip the city.\n",
    "    except KeyError:\n",
    "        #print(\"City not found. Skipping...\")\n",
    "        pass\n",
    "col = ['City', 'Lat', 'Lng', 'Max Temp', 'Humidity', 'Cloudiness', 'Wind Speed', 'Current Descriptin', 'Country', 'Date']\n",
    "\n",
    "j = 0\n",
    "cName = []\n",
    "cLat  = []\n",
    "cLng  = []\n",
    "cMaxT = []\n",
    "cHum  = []\n",
    "cCld  = []\n",
    "cWinS = []\n",
    "cCur  = []\n",
    "cCoun = []\n",
    "cDate = []\n",
    "#print(city_data)\n",
    "for j in range(len(city_data)):\n",
    "    cName += [city_data[j].get(\"City\")]\n",
    "    cLat  += [city_data[j].get(\"Lat\")]\n",
    "    cLng  += [city_data[j].get(\"Lng\")]\n",
    "    cMaxT += [city_data[j].get(\"Max Temp\")]\n",
    "    cHum  += [city_data[j].get(\"Humidity\")]\n",
    "    cCld  += [city_data[j].get(\"Cloudiness\")]\n",
    "    cWinS += [city_data[j].get(\"Wind Speed\")]\n",
    "    cCur  += [city_data[j].get(\"Current Description\")]\n",
    "    cCoun += [city_data[j].get(\"Country\")]\n",
    "    cDate += [city_data[j].get(\"Date\")]\n",
    "    \n",
    "wList = [cName, cLat, cLng, cMaxT, cHum, cCld, cWinS, cCur, cCoun, cDate]\n",
    "#print(wList)\n",
    "\n",
    "    \n",
    "cityDF = pd.DataFrame(wList).transpose()\n",
    "cityDF.columns= col\n",
    "# Indicate that Data Loading is complete.\n",
    "print(cityDF)\n",
    "\n",
    "cityDF.to_csv('weather_data.csv', index = False)\n",
    "print(\"-----------------------------\")\n",
    "print(\"Data Retrieval Complete      \")\n",
    "print(\"-----------------------------\")"
   ]
  },
  {
   "cell_type": "code",
   "execution_count": null,
   "metadata": {},
   "outputs": [],
   "source": []
  }
 ],
 "metadata": {
  "kernelspec": {
   "display_name": "Python 3",
   "language": "python",
   "name": "python3"
  },
  "language_info": {
   "codemirror_mode": {
    "name": "ipython",
    "version": 3
   },
   "file_extension": ".py",
   "mimetype": "text/x-python",
   "name": "python",
   "nbconvert_exporter": "python",
   "pygments_lexer": "ipython3",
   "version": "3.8.5"
  },
  "widgets": {
   "application/vnd.jupyter.widget-state+json": {
    "state": {},
    "version_major": 2,
    "version_minor": 0
   }
  }
 },
 "nbformat": 4,
 "nbformat_minor": 4
}
