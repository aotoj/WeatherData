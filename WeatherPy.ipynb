{
 "cells": [
  {
   "cell_type": "code",
   "execution_count": 1,
   "metadata": {},
   "outputs": [],
   "source": [
    "import pandas as pd\n",
    "import matplotlib.pyplot as plt\n",
    "import numpy as np\n",
    "import gmaps\n",
    "import requests\n",
    "\n",
    "from citipy import citipy\n",
    "from config import weather_api_key, g_key\n",
    "\n",
    "from datetime import datetime\n",
    "import time\n",
    "\n",
    "from scipy.stats import linregress"
   ]
  },
  {
   "cell_type": "code",
   "execution_count": 2,
   "metadata": {},
   "outputs": [
    {
     "name": "stdout",
     "output_type": "stream",
     "text": [
      "            City    Lat     Lng  Max Temp  Humidity  Cloudiness  Wind Speed  \\\n",
      "0        Bubaque  11.28  -15.83     80.42        56           5        6.60   \n",
      "1      Cape Town -33.93   18.42     61.00        93           0        5.82   \n",
      "2       Cherskiy  68.75  161.30    -19.41        87         100        5.77   \n",
      "3        Rikitea -23.12 -134.97     76.10        68          42        4.14   \n",
      "4        Kavieng  -2.57  150.80     85.96        69         100       10.45   \n",
      "..           ...    ...     ...       ...       ...         ...         ...   \n",
      "64         Pevek  69.70  170.31     14.65        89         100       18.75   \n",
      "65  Mochalishche  56.33   48.35      1.40        84           0        6.71   \n",
      "66        Talaya  61.38  152.75    -26.91        82         100        4.72   \n",
      "67       Urengoy  65.97   78.37      5.49        95         100        8.03   \n",
      "68       Qaanaaq  77.48  -69.36     23.05        90         100        4.65   \n",
      "\n",
      "   Current Descriptin Country                 Date  \n",
      "0           clear sky      GW  2020-12-14 03:49:30  \n",
      "1           clear sky      ZA  2020-12-14 03:49:28  \n",
      "2     overcast clouds      RU  2020-12-14 03:49:30  \n",
      "3    scattered clouds      PF  2020-12-14 03:49:31  \n",
      "4     overcast clouds      PG  2020-12-14 03:49:31  \n",
      "..                ...     ...                  ...  \n",
      "64    overcast clouds      RU  2020-12-14 03:49:45  \n",
      "65          clear sky      RU  2020-12-14 03:49:46  \n",
      "66    overcast clouds      RU  2020-12-14 03:49:46  \n",
      "67    overcast clouds      RU  2020-12-14 03:49:46  \n",
      "68    overcast clouds      GL  2020-12-14 03:49:46  \n",
      "\n",
      "[69 rows x 10 columns]\n"
     ]
    }
   ],
   "source": [
    "col = ['City', 'Lat', 'Lng', 'Max Temp', 'Humidity', 'Cloudiness', 'Wind Speed', 'Current Descriptin', 'Country', 'Date']\n",
    "\n",
    "df = pd.read_csv('weather_data.csv', usecols = col)\n",
    "print(df)"
   ]
  },
  {
   "cell_type": "code",
   "execution_count": null,
   "metadata": {},
   "outputs": [],
   "source": []
  }
 ],
 "metadata": {
  "kernelspec": {
   "display_name": "Python 3",
   "language": "python",
   "name": "python3"
  },
  "language_info": {
   "codemirror_mode": {
    "name": "ipython",
    "version": 3
   },
   "file_extension": ".py",
   "mimetype": "text/x-python",
   "name": "python",
   "nbconvert_exporter": "python",
   "pygments_lexer": "ipython3",
   "version": "3.8.5"
  }
 },
 "nbformat": 4,
 "nbformat_minor": 4
}
